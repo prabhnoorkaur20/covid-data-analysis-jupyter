{
 "cells": [
  {
   "cell_type": "code",
   "execution_count": 1,
   "metadata": {},
   "outputs": [
    {
     "name": "stdout",
     "output_type": "stream",
     "text": [
      "Modules are imported\n"
     ]
    }
   ],
   "source": [
    "import pandas as pd\n",
    "import numpy as np\n",
    "import seaborn as sns\n",
    "import matplotlib.pyplot as plt\n",
    "print('Modules are imported')"
   ]
  },
  {
   "cell_type": "code",
   "execution_count": 3,
   "metadata": {
    "scrolled": true
   },
   "outputs": [
    {
     "data": {
      "text/html": [
       "<div>\n",
       "<style scoped>\n",
       "    .dataframe tbody tr th:only-of-type {\n",
       "        vertical-align: middle;\n",
       "    }\n",
       "\n",
       "    .dataframe tbody tr th {\n",
       "        vertical-align: top;\n",
       "    }\n",
       "\n",
       "    .dataframe thead th {\n",
       "        text-align: right;\n",
       "    }\n",
       "</style>\n",
       "<table border=\"1\" class=\"dataframe\">\n",
       "  <thead>\n",
       "    <tr style=\"text-align: right;\">\n",
       "      <th></th>\n",
       "      <th>Countries</th>\n",
       "      <th>Latitude</th>\n",
       "      <th>Longitude</th>\n",
       "      <th>31/12/2019</th>\n",
       "      <th>1/1/2020</th>\n",
       "      <th>2/1/2020</th>\n",
       "      <th>3/1/2020</th>\n",
       "      <th>4/1/2020</th>\n",
       "      <th>5/1/2020</th>\n",
       "      <th>6/1/2020</th>\n",
       "      <th>...</th>\n",
       "      <th>20/07/2020</th>\n",
       "      <th>21/07/2020</th>\n",
       "      <th>22/07/2020</th>\n",
       "      <th>23/07/2020</th>\n",
       "      <th>24/07/2020</th>\n",
       "      <th>25/07/2020</th>\n",
       "      <th>26/07/2020</th>\n",
       "      <th>27/07/2020</th>\n",
       "      <th>28/07/2020</th>\n",
       "      <th>29/07/2020</th>\n",
       "    </tr>\n",
       "  </thead>\n",
       "  <tbody>\n",
       "    <tr>\n",
       "      <th>0</th>\n",
       "      <td>Afghanistan</td>\n",
       "      <td>33.9391</td>\n",
       "      <td>67.7100</td>\n",
       "      <td>0.0</td>\n",
       "      <td>0.0</td>\n",
       "      <td>0.0</td>\n",
       "      <td>0.0</td>\n",
       "      <td>0.0</td>\n",
       "      <td>0.0</td>\n",
       "      <td>0.0</td>\n",
       "      <td>...</td>\n",
       "      <td>35475.0</td>\n",
       "      <td>35615.0</td>\n",
       "      <td>35727.0</td>\n",
       "      <td>35915.0</td>\n",
       "      <td>35928.0</td>\n",
       "      <td>36036.0</td>\n",
       "      <td>36157.0</td>\n",
       "      <td>36263.0</td>\n",
       "      <td>36368.0</td>\n",
       "      <td>36471.0</td>\n",
       "    </tr>\n",
       "    <tr>\n",
       "      <th>1</th>\n",
       "      <td>Albania</td>\n",
       "      <td>41.1533</td>\n",
       "      <td>20.1683</td>\n",
       "      <td>NaN</td>\n",
       "      <td>NaN</td>\n",
       "      <td>NaN</td>\n",
       "      <td>NaN</td>\n",
       "      <td>NaN</td>\n",
       "      <td>NaN</td>\n",
       "      <td>NaN</td>\n",
       "      <td>...</td>\n",
       "      <td>4090.0</td>\n",
       "      <td>4171.0</td>\n",
       "      <td>4290.0</td>\n",
       "      <td>4358.0</td>\n",
       "      <td>4466.0</td>\n",
       "      <td>4570.0</td>\n",
       "      <td>4637.0</td>\n",
       "      <td>4763.0</td>\n",
       "      <td>4880.0</td>\n",
       "      <td>4997.0</td>\n",
       "    </tr>\n",
       "    <tr>\n",
       "      <th>2</th>\n",
       "      <td>Algeria</td>\n",
       "      <td>28.0339</td>\n",
       "      <td>1.6596</td>\n",
       "      <td>0.0</td>\n",
       "      <td>0.0</td>\n",
       "      <td>0.0</td>\n",
       "      <td>0.0</td>\n",
       "      <td>0.0</td>\n",
       "      <td>0.0</td>\n",
       "      <td>0.0</td>\n",
       "      <td>...</td>\n",
       "      <td>23084.0</td>\n",
       "      <td>23691.0</td>\n",
       "      <td>24278.0</td>\n",
       "      <td>24872.0</td>\n",
       "      <td>25484.0</td>\n",
       "      <td>26159.0</td>\n",
       "      <td>26764.0</td>\n",
       "      <td>27357.0</td>\n",
       "      <td>27973.0</td>\n",
       "      <td>27973.0</td>\n",
       "    </tr>\n",
       "    <tr>\n",
       "      <th>3</th>\n",
       "      <td>Andorra</td>\n",
       "      <td>42.5063</td>\n",
       "      <td>1.5218</td>\n",
       "      <td>NaN</td>\n",
       "      <td>NaN</td>\n",
       "      <td>NaN</td>\n",
       "      <td>NaN</td>\n",
       "      <td>NaN</td>\n",
       "      <td>NaN</td>\n",
       "      <td>NaN</td>\n",
       "      <td>...</td>\n",
       "      <td>880.0</td>\n",
       "      <td>884.0</td>\n",
       "      <td>884.0</td>\n",
       "      <td>889.0</td>\n",
       "      <td>889.0</td>\n",
       "      <td>889.0</td>\n",
       "      <td>897.0</td>\n",
       "      <td>897.0</td>\n",
       "      <td>907.0</td>\n",
       "      <td>907.0</td>\n",
       "    </tr>\n",
       "    <tr>\n",
       "      <th>4</th>\n",
       "      <td>Angola</td>\n",
       "      <td>-11.2027</td>\n",
       "      <td>17.8739</td>\n",
       "      <td>NaN</td>\n",
       "      <td>NaN</td>\n",
       "      <td>NaN</td>\n",
       "      <td>NaN</td>\n",
       "      <td>NaN</td>\n",
       "      <td>NaN</td>\n",
       "      <td>NaN</td>\n",
       "      <td>...</td>\n",
       "      <td>705.0</td>\n",
       "      <td>749.0</td>\n",
       "      <td>749.0</td>\n",
       "      <td>779.0</td>\n",
       "      <td>812.0</td>\n",
       "      <td>851.0</td>\n",
       "      <td>880.0</td>\n",
       "      <td>880.0</td>\n",
       "      <td>930.0</td>\n",
       "      <td>932.0</td>\n",
       "    </tr>\n",
       "  </tbody>\n",
       "</table>\n",
       "<p>5 rows × 215 columns</p>\n",
       "</div>"
      ],
      "text/plain": [
       "     Countries  Latitude  Longitude  31/12/2019  1/1/2020  2/1/2020  3/1/2020  \\\n",
       "0  Afghanistan   33.9391    67.7100         0.0       0.0       0.0       0.0   \n",
       "1      Albania   41.1533    20.1683         NaN       NaN       NaN       NaN   \n",
       "2      Algeria   28.0339     1.6596         0.0       0.0       0.0       0.0   \n",
       "3      Andorra   42.5063     1.5218         NaN       NaN       NaN       NaN   \n",
       "4       Angola  -11.2027    17.8739         NaN       NaN       NaN       NaN   \n",
       "\n",
       "   4/1/2020  5/1/2020  6/1/2020  ...  20/07/2020  21/07/2020  22/07/2020  \\\n",
       "0       0.0       0.0       0.0  ...     35475.0     35615.0     35727.0   \n",
       "1       NaN       NaN       NaN  ...      4090.0      4171.0      4290.0   \n",
       "2       0.0       0.0       0.0  ...     23084.0     23691.0     24278.0   \n",
       "3       NaN       NaN       NaN  ...       880.0       884.0       884.0   \n",
       "4       NaN       NaN       NaN  ...       705.0       749.0       749.0   \n",
       "\n",
       "   23/07/2020  24/07/2020  25/07/2020  26/07/2020  27/07/2020  28/07/2020  \\\n",
       "0     35915.0     35928.0     36036.0     36157.0     36263.0     36368.0   \n",
       "1      4358.0      4466.0      4570.0      4637.0      4763.0      4880.0   \n",
       "2     24872.0     25484.0     26159.0     26764.0     27357.0     27973.0   \n",
       "3       889.0       889.0       889.0       897.0       897.0       907.0   \n",
       "4       779.0       812.0       851.0       880.0       880.0       930.0   \n",
       "\n",
       "   29/07/2020  \n",
       "0     36471.0  \n",
       "1      4997.0  \n",
       "2     27973.0  \n",
       "3       907.0  \n",
       "4       932.0  \n",
       "\n",
       "[5 rows x 215 columns]"
      ]
     },
     "execution_count": 3,
     "metadata": {},
     "output_type": "execute_result"
    }
   ],
   "source": [
    "cov_dataset = pd.read_csv(\"Dataset/covdataset.csv\", encoding='latin1')\n",
    "cov_dataset.head()"
   ]
  },
  {
   "cell_type": "code",
   "execution_count": 4,
   "metadata": {},
   "outputs": [],
   "source": [
    "cov_dataset.drop([\"Latitude\",\"Longitude\"],axis=1,inplace=True)"
   ]
  },
  {
   "cell_type": "code",
   "execution_count": 5,
   "metadata": {},
   "outputs": [
    {
     "data": {
      "text/html": [
       "<div>\n",
       "<style scoped>\n",
       "    .dataframe tbody tr th:only-of-type {\n",
       "        vertical-align: middle;\n",
       "    }\n",
       "\n",
       "    .dataframe tbody tr th {\n",
       "        vertical-align: top;\n",
       "    }\n",
       "\n",
       "    .dataframe thead th {\n",
       "        text-align: right;\n",
       "    }\n",
       "</style>\n",
       "<table border=\"1\" class=\"dataframe\">\n",
       "  <thead>\n",
       "    <tr style=\"text-align: right;\">\n",
       "      <th></th>\n",
       "      <th>Countries</th>\n",
       "      <th>31/12/2019</th>\n",
       "      <th>1/1/2020</th>\n",
       "      <th>2/1/2020</th>\n",
       "      <th>3/1/2020</th>\n",
       "      <th>4/1/2020</th>\n",
       "      <th>5/1/2020</th>\n",
       "      <th>6/1/2020</th>\n",
       "      <th>7/1/2020</th>\n",
       "      <th>8/1/2020</th>\n",
       "      <th>...</th>\n",
       "      <th>20/07/2020</th>\n",
       "      <th>21/07/2020</th>\n",
       "      <th>22/07/2020</th>\n",
       "      <th>23/07/2020</th>\n",
       "      <th>24/07/2020</th>\n",
       "      <th>25/07/2020</th>\n",
       "      <th>26/07/2020</th>\n",
       "      <th>27/07/2020</th>\n",
       "      <th>28/07/2020</th>\n",
       "      <th>29/07/2020</th>\n",
       "    </tr>\n",
       "  </thead>\n",
       "  <tbody>\n",
       "    <tr>\n",
       "      <th>0</th>\n",
       "      <td>Afghanistan</td>\n",
       "      <td>0.0</td>\n",
       "      <td>0.0</td>\n",
       "      <td>0.0</td>\n",
       "      <td>0.0</td>\n",
       "      <td>0.0</td>\n",
       "      <td>0.0</td>\n",
       "      <td>0.0</td>\n",
       "      <td>0.0</td>\n",
       "      <td>0.0</td>\n",
       "      <td>...</td>\n",
       "      <td>35475.0</td>\n",
       "      <td>35615.0</td>\n",
       "      <td>35727.0</td>\n",
       "      <td>35915.0</td>\n",
       "      <td>35928.0</td>\n",
       "      <td>36036.0</td>\n",
       "      <td>36157.0</td>\n",
       "      <td>36263.0</td>\n",
       "      <td>36368.0</td>\n",
       "      <td>36471.0</td>\n",
       "    </tr>\n",
       "    <tr>\n",
       "      <th>1</th>\n",
       "      <td>Albania</td>\n",
       "      <td>NaN</td>\n",
       "      <td>NaN</td>\n",
       "      <td>NaN</td>\n",
       "      <td>NaN</td>\n",
       "      <td>NaN</td>\n",
       "      <td>NaN</td>\n",
       "      <td>NaN</td>\n",
       "      <td>NaN</td>\n",
       "      <td>NaN</td>\n",
       "      <td>...</td>\n",
       "      <td>4090.0</td>\n",
       "      <td>4171.0</td>\n",
       "      <td>4290.0</td>\n",
       "      <td>4358.0</td>\n",
       "      <td>4466.0</td>\n",
       "      <td>4570.0</td>\n",
       "      <td>4637.0</td>\n",
       "      <td>4763.0</td>\n",
       "      <td>4880.0</td>\n",
       "      <td>4997.0</td>\n",
       "    </tr>\n",
       "    <tr>\n",
       "      <th>2</th>\n",
       "      <td>Algeria</td>\n",
       "      <td>0.0</td>\n",
       "      <td>0.0</td>\n",
       "      <td>0.0</td>\n",
       "      <td>0.0</td>\n",
       "      <td>0.0</td>\n",
       "      <td>0.0</td>\n",
       "      <td>0.0</td>\n",
       "      <td>0.0</td>\n",
       "      <td>0.0</td>\n",
       "      <td>...</td>\n",
       "      <td>23084.0</td>\n",
       "      <td>23691.0</td>\n",
       "      <td>24278.0</td>\n",
       "      <td>24872.0</td>\n",
       "      <td>25484.0</td>\n",
       "      <td>26159.0</td>\n",
       "      <td>26764.0</td>\n",
       "      <td>27357.0</td>\n",
       "      <td>27973.0</td>\n",
       "      <td>27973.0</td>\n",
       "    </tr>\n",
       "    <tr>\n",
       "      <th>3</th>\n",
       "      <td>Andorra</td>\n",
       "      <td>NaN</td>\n",
       "      <td>NaN</td>\n",
       "      <td>NaN</td>\n",
       "      <td>NaN</td>\n",
       "      <td>NaN</td>\n",
       "      <td>NaN</td>\n",
       "      <td>NaN</td>\n",
       "      <td>NaN</td>\n",
       "      <td>NaN</td>\n",
       "      <td>...</td>\n",
       "      <td>880.0</td>\n",
       "      <td>884.0</td>\n",
       "      <td>884.0</td>\n",
       "      <td>889.0</td>\n",
       "      <td>889.0</td>\n",
       "      <td>889.0</td>\n",
       "      <td>897.0</td>\n",
       "      <td>897.0</td>\n",
       "      <td>907.0</td>\n",
       "      <td>907.0</td>\n",
       "    </tr>\n",
       "    <tr>\n",
       "      <th>4</th>\n",
       "      <td>Angola</td>\n",
       "      <td>NaN</td>\n",
       "      <td>NaN</td>\n",
       "      <td>NaN</td>\n",
       "      <td>NaN</td>\n",
       "      <td>NaN</td>\n",
       "      <td>NaN</td>\n",
       "      <td>NaN</td>\n",
       "      <td>NaN</td>\n",
       "      <td>NaN</td>\n",
       "      <td>...</td>\n",
       "      <td>705.0</td>\n",
       "      <td>749.0</td>\n",
       "      <td>749.0</td>\n",
       "      <td>779.0</td>\n",
       "      <td>812.0</td>\n",
       "      <td>851.0</td>\n",
       "      <td>880.0</td>\n",
       "      <td>880.0</td>\n",
       "      <td>930.0</td>\n",
       "      <td>932.0</td>\n",
       "    </tr>\n",
       "  </tbody>\n",
       "</table>\n",
       "<p>5 rows × 213 columns</p>\n",
       "</div>"
      ],
      "text/plain": [
       "     Countries  31/12/2019  1/1/2020  2/1/2020  3/1/2020  4/1/2020  5/1/2020  \\\n",
       "0  Afghanistan         0.0       0.0       0.0       0.0       0.0       0.0   \n",
       "1      Albania         NaN       NaN       NaN       NaN       NaN       NaN   \n",
       "2      Algeria         0.0       0.0       0.0       0.0       0.0       0.0   \n",
       "3      Andorra         NaN       NaN       NaN       NaN       NaN       NaN   \n",
       "4       Angola         NaN       NaN       NaN       NaN       NaN       NaN   \n",
       "\n",
       "   6/1/2020  7/1/2020  8/1/2020  ...  20/07/2020  21/07/2020  22/07/2020  \\\n",
       "0       0.0       0.0       0.0  ...     35475.0     35615.0     35727.0   \n",
       "1       NaN       NaN       NaN  ...      4090.0      4171.0      4290.0   \n",
       "2       0.0       0.0       0.0  ...     23084.0     23691.0     24278.0   \n",
       "3       NaN       NaN       NaN  ...       880.0       884.0       884.0   \n",
       "4       NaN       NaN       NaN  ...       705.0       749.0       749.0   \n",
       "\n",
       "   23/07/2020  24/07/2020  25/07/2020  26/07/2020  27/07/2020  28/07/2020  \\\n",
       "0     35915.0     35928.0     36036.0     36157.0     36263.0     36368.0   \n",
       "1      4358.0      4466.0      4570.0      4637.0      4763.0      4880.0   \n",
       "2     24872.0     25484.0     26159.0     26764.0     27357.0     27973.0   \n",
       "3       889.0       889.0       889.0       897.0       897.0       907.0   \n",
       "4       779.0       812.0       851.0       880.0       880.0       930.0   \n",
       "\n",
       "   29/07/2020  \n",
       "0     36471.0  \n",
       "1      4997.0  \n",
       "2     27973.0  \n",
       "3       907.0  \n",
       "4       932.0  \n",
       "\n",
       "[5 rows x 213 columns]"
      ]
     },
     "execution_count": 5,
     "metadata": {},
     "output_type": "execute_result"
    }
   ],
   "source": [
    "cov_dataset.head()"
   ]
  },
  {
   "cell_type": "code",
   "execution_count": 6,
   "metadata": {},
   "outputs": [],
   "source": [
    "cov_dataset.set_index(\"Countries\", inplace = True)"
   ]
  },
  {
   "cell_type": "code",
   "execution_count": 7,
   "metadata": {},
   "outputs": [
    {
     "data": {
      "text/html": [
       "<div>\n",
       "<style scoped>\n",
       "    .dataframe tbody tr th:only-of-type {\n",
       "        vertical-align: middle;\n",
       "    }\n",
       "\n",
       "    .dataframe tbody tr th {\n",
       "        vertical-align: top;\n",
       "    }\n",
       "\n",
       "    .dataframe thead th {\n",
       "        text-align: right;\n",
       "    }\n",
       "</style>\n",
       "<table border=\"1\" class=\"dataframe\">\n",
       "  <thead>\n",
       "    <tr style=\"text-align: right;\">\n",
       "      <th></th>\n",
       "      <th>31/12/2019</th>\n",
       "      <th>1/1/2020</th>\n",
       "      <th>2/1/2020</th>\n",
       "      <th>3/1/2020</th>\n",
       "      <th>4/1/2020</th>\n",
       "      <th>5/1/2020</th>\n",
       "      <th>6/1/2020</th>\n",
       "      <th>7/1/2020</th>\n",
       "      <th>8/1/2020</th>\n",
       "      <th>9/1/2020</th>\n",
       "      <th>...</th>\n",
       "      <th>20/07/2020</th>\n",
       "      <th>21/07/2020</th>\n",
       "      <th>22/07/2020</th>\n",
       "      <th>23/07/2020</th>\n",
       "      <th>24/07/2020</th>\n",
       "      <th>25/07/2020</th>\n",
       "      <th>26/07/2020</th>\n",
       "      <th>27/07/2020</th>\n",
       "      <th>28/07/2020</th>\n",
       "      <th>29/07/2020</th>\n",
       "    </tr>\n",
       "    <tr>\n",
       "      <th>Countries</th>\n",
       "      <th></th>\n",
       "      <th></th>\n",
       "      <th></th>\n",
       "      <th></th>\n",
       "      <th></th>\n",
       "      <th></th>\n",
       "      <th></th>\n",
       "      <th></th>\n",
       "      <th></th>\n",
       "      <th></th>\n",
       "      <th></th>\n",
       "      <th></th>\n",
       "      <th></th>\n",
       "      <th></th>\n",
       "      <th></th>\n",
       "      <th></th>\n",
       "      <th></th>\n",
       "      <th></th>\n",
       "      <th></th>\n",
       "      <th></th>\n",
       "      <th></th>\n",
       "    </tr>\n",
       "  </thead>\n",
       "  <tbody>\n",
       "    <tr>\n",
       "      <th>Afghanistan</th>\n",
       "      <td>0.0</td>\n",
       "      <td>0.0</td>\n",
       "      <td>0.0</td>\n",
       "      <td>0.0</td>\n",
       "      <td>0.0</td>\n",
       "      <td>0.0</td>\n",
       "      <td>0.0</td>\n",
       "      <td>0.0</td>\n",
       "      <td>0.0</td>\n",
       "      <td>0.0</td>\n",
       "      <td>...</td>\n",
       "      <td>35475.0</td>\n",
       "      <td>35615.0</td>\n",
       "      <td>35727.0</td>\n",
       "      <td>35915.0</td>\n",
       "      <td>35928.0</td>\n",
       "      <td>36036.0</td>\n",
       "      <td>36157.0</td>\n",
       "      <td>36263.0</td>\n",
       "      <td>36368.0</td>\n",
       "      <td>36471.0</td>\n",
       "    </tr>\n",
       "    <tr>\n",
       "      <th>Albania</th>\n",
       "      <td>NaN</td>\n",
       "      <td>NaN</td>\n",
       "      <td>NaN</td>\n",
       "      <td>NaN</td>\n",
       "      <td>NaN</td>\n",
       "      <td>NaN</td>\n",
       "      <td>NaN</td>\n",
       "      <td>NaN</td>\n",
       "      <td>NaN</td>\n",
       "      <td>NaN</td>\n",
       "      <td>...</td>\n",
       "      <td>4090.0</td>\n",
       "      <td>4171.0</td>\n",
       "      <td>4290.0</td>\n",
       "      <td>4358.0</td>\n",
       "      <td>4466.0</td>\n",
       "      <td>4570.0</td>\n",
       "      <td>4637.0</td>\n",
       "      <td>4763.0</td>\n",
       "      <td>4880.0</td>\n",
       "      <td>4997.0</td>\n",
       "    </tr>\n",
       "    <tr>\n",
       "      <th>Algeria</th>\n",
       "      <td>0.0</td>\n",
       "      <td>0.0</td>\n",
       "      <td>0.0</td>\n",
       "      <td>0.0</td>\n",
       "      <td>0.0</td>\n",
       "      <td>0.0</td>\n",
       "      <td>0.0</td>\n",
       "      <td>0.0</td>\n",
       "      <td>0.0</td>\n",
       "      <td>0.0</td>\n",
       "      <td>...</td>\n",
       "      <td>23084.0</td>\n",
       "      <td>23691.0</td>\n",
       "      <td>24278.0</td>\n",
       "      <td>24872.0</td>\n",
       "      <td>25484.0</td>\n",
       "      <td>26159.0</td>\n",
       "      <td>26764.0</td>\n",
       "      <td>27357.0</td>\n",
       "      <td>27973.0</td>\n",
       "      <td>27973.0</td>\n",
       "    </tr>\n",
       "    <tr>\n",
       "      <th>Andorra</th>\n",
       "      <td>NaN</td>\n",
       "      <td>NaN</td>\n",
       "      <td>NaN</td>\n",
       "      <td>NaN</td>\n",
       "      <td>NaN</td>\n",
       "      <td>NaN</td>\n",
       "      <td>NaN</td>\n",
       "      <td>NaN</td>\n",
       "      <td>NaN</td>\n",
       "      <td>NaN</td>\n",
       "      <td>...</td>\n",
       "      <td>880.0</td>\n",
       "      <td>884.0</td>\n",
       "      <td>884.0</td>\n",
       "      <td>889.0</td>\n",
       "      <td>889.0</td>\n",
       "      <td>889.0</td>\n",
       "      <td>897.0</td>\n",
       "      <td>897.0</td>\n",
       "      <td>907.0</td>\n",
       "      <td>907.0</td>\n",
       "    </tr>\n",
       "    <tr>\n",
       "      <th>Angola</th>\n",
       "      <td>NaN</td>\n",
       "      <td>NaN</td>\n",
       "      <td>NaN</td>\n",
       "      <td>NaN</td>\n",
       "      <td>NaN</td>\n",
       "      <td>NaN</td>\n",
       "      <td>NaN</td>\n",
       "      <td>NaN</td>\n",
       "      <td>NaN</td>\n",
       "      <td>NaN</td>\n",
       "      <td>...</td>\n",
       "      <td>705.0</td>\n",
       "      <td>749.0</td>\n",
       "      <td>749.0</td>\n",
       "      <td>779.0</td>\n",
       "      <td>812.0</td>\n",
       "      <td>851.0</td>\n",
       "      <td>880.0</td>\n",
       "      <td>880.0</td>\n",
       "      <td>930.0</td>\n",
       "      <td>932.0</td>\n",
       "    </tr>\n",
       "  </tbody>\n",
       "</table>\n",
       "<p>5 rows × 212 columns</p>\n",
       "</div>"
      ],
      "text/plain": [
       "             31/12/2019  1/1/2020  2/1/2020  3/1/2020  4/1/2020  5/1/2020  \\\n",
       "Countries                                                                   \n",
       "Afghanistan         0.0       0.0       0.0       0.0       0.0       0.0   \n",
       "Albania             NaN       NaN       NaN       NaN       NaN       NaN   \n",
       "Algeria             0.0       0.0       0.0       0.0       0.0       0.0   \n",
       "Andorra             NaN       NaN       NaN       NaN       NaN       NaN   \n",
       "Angola              NaN       NaN       NaN       NaN       NaN       NaN   \n",
       "\n",
       "             6/1/2020  7/1/2020  8/1/2020  9/1/2020  ...  20/07/2020  \\\n",
       "Countries                                            ...               \n",
       "Afghanistan       0.0       0.0       0.0       0.0  ...     35475.0   \n",
       "Albania           NaN       NaN       NaN       NaN  ...      4090.0   \n",
       "Algeria           0.0       0.0       0.0       0.0  ...     23084.0   \n",
       "Andorra           NaN       NaN       NaN       NaN  ...       880.0   \n",
       "Angola            NaN       NaN       NaN       NaN  ...       705.0   \n",
       "\n",
       "             21/07/2020  22/07/2020  23/07/2020  24/07/2020  25/07/2020  \\\n",
       "Countries                                                                 \n",
       "Afghanistan     35615.0     35727.0     35915.0     35928.0     36036.0   \n",
       "Albania          4171.0      4290.0      4358.0      4466.0      4570.0   \n",
       "Algeria         23691.0     24278.0     24872.0     25484.0     26159.0   \n",
       "Andorra           884.0       884.0       889.0       889.0       889.0   \n",
       "Angola            749.0       749.0       779.0       812.0       851.0   \n",
       "\n",
       "             26/07/2020  27/07/2020  28/07/2020  29/07/2020  \n",
       "Countries                                                    \n",
       "Afghanistan     36157.0     36263.0     36368.0     36471.0  \n",
       "Albania          4637.0      4763.0      4880.0      4997.0  \n",
       "Algeria         26764.0     27357.0     27973.0     27973.0  \n",
       "Andorra           897.0       897.0       907.0       907.0  \n",
       "Angola            880.0       880.0       930.0       932.0  \n",
       "\n",
       "[5 rows x 212 columns]"
      ]
     },
     "execution_count": 7,
     "metadata": {},
     "output_type": "execute_result"
    }
   ],
   "source": [
    "cov_dataset.head()"
   ]
  },
  {
   "cell_type": "code",
   "execution_count": 8,
   "metadata": {},
   "outputs": [
    {
     "name": "stderr",
     "output_type": "stream",
     "text": [
      "c:\\users\\sony\\appdata\\local\\programs\\python\\python38-32\\lib\\site-packages\\pandas\\plotting\\_matplotlib\\core.py:1235: UserWarning: FixedFormatter should only be used together with FixedLocator\n",
      "  ax.set_xticklabels(xticklabels)\n"
     ]
    },
    {
     "data": {
      "text/plain": [
       "<matplotlib.legend.Legend at 0x11822580>"
      ]
     },
     "execution_count": 8,
     "metadata": {},
     "output_type": "execute_result"
    },
    {
     "data": {
      "image/png": "[encoded data removed]",
      "text/plain": [
       "<Figure size 432x288 with 1 Axes>"
      ]
     },
     "metadata": {
      "needs_background": "light"
     },
     "output_type": "display_data"
    }
   ],
   "source": [
    "cov_dataset.loc[\"United States\"].plot()\n",
    "cov_dataset.loc[\"Brazil\"].plot()\n",
    "cov_dataset.loc[\"India\"].plot()\n",
    "plt.legend()"
   ]
  },
  {
   "cell_type": "code",
   "execution_count": 9,
   "metadata": {},
   "outputs": [
    {
     "name": "stderr",
     "output_type": "stream",
     "text": [
      "c:\\users\\sony\\appdata\\local\\programs\\python\\python38-32\\lib\\site-packages\\pandas\\plotting\\_matplotlib\\core.py:1235: UserWarning: FixedFormatter should only be used together with FixedLocator\n",
      "  ax.set_xticklabels(xticklabels)\n"
     ]
    },
    {
     "data": {
      "text/plain": [
       "<AxesSubplot:>"
      ]
     },
     "execution_count": 9,
     "metadata": {},
     "output_type": "execute_result"
    },
    {
     "data": {
      "image/png": "[encoded data removed]",
      "text/plain": [
       "<Figure size 432x288 with 1 Axes>"
      ]
     },
     "metadata": {
      "needs_background": "light"
     },
     "output_type": "display_data"
    }
   ],
   "source": [
    "cov_dataset.loc[\"Italy\"].plot()"
   ]
  },
  {
   "cell_type": "code",
   "execution_count": 10,
   "metadata": {},
   "outputs": [
    {
     "name": "stderr",
     "output_type": "stream",
     "text": [
      "c:\\users\\sony\\appdata\\local\\programs\\python\\python38-32\\lib\\site-packages\\pandas\\plotting\\_matplotlib\\core.py:1235: UserWarning: FixedFormatter should only be used together with FixedLocator\n",
      "  ax.set_xticklabels(xticklabels)\n"
     ]
    },
    {
     "data": {
      "text/plain": [
       "<AxesSubplot:>"
      ]
     },
     "execution_count": 10,
     "metadata": {},
     "output_type": "execute_result"
    },
    {
     "data": {
      "image/png": "[encoded data removed]",
      "text/plain": [
       "<Figure size 432x288 with 1 Axes>"
      ]
     },
     "metadata": {
      "needs_background": "light"
     },
     "output_type": "display_data"
    }
   ],
   "source": [
    "cov_dataset.loc[\"China\"][:5].plot()"
   ]
  },
  {
   "cell_type": "code",
   "execution_count": 11,
   "metadata": {},
   "outputs": [
    {
     "name": "stderr",
     "output_type": "stream",
     "text": [
      "c:\\users\\sony\\appdata\\local\\programs\\python\\python38-32\\lib\\site-packages\\pandas\\plotting\\_matplotlib\\core.py:1235: UserWarning: FixedFormatter should only be used together with FixedLocator\n",
      "  ax.set_xticklabels(xticklabels)\n"
     ]
    },
    {
     "data": {
      "text/plain": [
       "<AxesSubplot:>"
      ]
     },
     "execution_count": 11,
     "metadata": {},
     "output_type": "execute_result"
    },
    {
     "data": {
      "image/png": "[encoded data removed]",
      "text/plain": [
       "<Figure size 432x288 with 1 Axes>"
      ]
     },
     "metadata": {
      "needs_background": "light"
     },
     "output_type": "display_data"
    }
   ],
   "source": [
    "cov_dataset.loc['United States'].diff().plot()"
   ]
  },
  {
   "cell_type": "code",
   "execution_count": 12,
   "metadata": {},
   "outputs": [
    {
     "data": {
      "text/plain": [
       "49931.0"
      ]
     },
     "execution_count": 12,
     "metadata": {},
     "output_type": "execute_result"
    }
   ],
   "source": [
    "cov_dataset.loc['India'].diff().max()"
   ]
  },
  {
   "cell_type": "code",
   "execution_count": 13,
   "metadata": {},
   "outputs": [
    {
     "data": {
      "text/plain": [
       "9181.0"
      ]
     },
     "execution_count": 13,
     "metadata": {},
     "output_type": "execute_result"
    }
   ],
   "source": [
    "cov_dataset.loc['Spain'].diff().max()"
   ]
  },
  {
   "cell_type": "code",
   "execution_count": 14,
   "metadata": {},
   "outputs": [
    {
     "data": {
      "text/plain": [
       "6557.0"
      ]
     },
     "execution_count": 14,
     "metadata": {},
     "output_type": "execute_result"
    }
   ],
   "source": [
    "cov_dataset.loc['Italy'].diff().max()"
   ]
  },
  {
   "cell_type": "code",
   "execution_count": 15,
   "metadata": {},
   "outputs": [
    {
     "data": {
      "text/plain": [
       "67860.0"
      ]
     },
     "execution_count": 15,
     "metadata": {},
     "output_type": "execute_result"
    }
   ],
   "source": [
    "cov_dataset.loc['Brazil'].diff().max()"
   ]
  },
  {
   "cell_type": "code",
   "execution_count": 16,
   "metadata": {},
   "outputs": [],
   "source": [
    "countries = list(cov_dataset.index)\n",
    "max_infection_rates = []\n",
    "for c in countries:\n",
    "    max_infection_rates.append(cov_dataset.loc[c].diff().max())\n",
    "cov_dataset[\"max_infection_rate\"] = max_infection_rates"
   ]
  },
  {
   "cell_type": "code",
   "execution_count": 17,
   "metadata": {},
   "outputs": [
    {
     "data": {
      "text/html": [
       "<div>\n",
       "<style scoped>\n",
       "    .dataframe tbody tr th:only-of-type {\n",
       "        vertical-align: middle;\n",
       "    }\n",
       "\n",
       "    .dataframe tbody tr th {\n",
       "        vertical-align: top;\n",
       "    }\n",
       "\n",
       "    .dataframe thead th {\n",
       "        text-align: right;\n",
       "    }\n",
       "</style>\n",
       "<table border=\"1\" class=\"dataframe\">\n",
       "  <thead>\n",
       "    <tr style=\"text-align: right;\">\n",
       "      <th></th>\n",
       "      <th>31/12/2019</th>\n",
       "      <th>1/1/2020</th>\n",
       "      <th>2/1/2020</th>\n",
       "      <th>3/1/2020</th>\n",
       "      <th>4/1/2020</th>\n",
       "      <th>5/1/2020</th>\n",
       "      <th>6/1/2020</th>\n",
       "      <th>7/1/2020</th>\n",
       "      <th>8/1/2020</th>\n",
       "      <th>9/1/2020</th>\n",
       "      <th>...</th>\n",
       "      <th>21/07/2020</th>\n",
       "      <th>22/07/2020</th>\n",
       "      <th>23/07/2020</th>\n",
       "      <th>24/07/2020</th>\n",
       "      <th>25/07/2020</th>\n",
       "      <th>26/07/2020</th>\n",
       "      <th>27/07/2020</th>\n",
       "      <th>28/07/2020</th>\n",
       "      <th>29/07/2020</th>\n",
       "      <th>max_infection_rate</th>\n",
       "    </tr>\n",
       "    <tr>\n",
       "      <th>Countries</th>\n",
       "      <th></th>\n",
       "      <th></th>\n",
       "      <th></th>\n",
       "      <th></th>\n",
       "      <th></th>\n",
       "      <th></th>\n",
       "      <th></th>\n",
       "      <th></th>\n",
       "      <th></th>\n",
       "      <th></th>\n",
       "      <th></th>\n",
       "      <th></th>\n",
       "      <th></th>\n",
       "      <th></th>\n",
       "      <th></th>\n",
       "      <th></th>\n",
       "      <th></th>\n",
       "      <th></th>\n",
       "      <th></th>\n",
       "      <th></th>\n",
       "      <th></th>\n",
       "    </tr>\n",
       "  </thead>\n",
       "  <tbody>\n",
       "    <tr>\n",
       "      <th>Afghanistan</th>\n",
       "      <td>0.0</td>\n",
       "      <td>0.0</td>\n",
       "      <td>0.0</td>\n",
       "      <td>0.0</td>\n",
       "      <td>0.0</td>\n",
       "      <td>0.0</td>\n",
       "      <td>0.0</td>\n",
       "      <td>0.0</td>\n",
       "      <td>0.0</td>\n",
       "      <td>0.0</td>\n",
       "      <td>...</td>\n",
       "      <td>35615.0</td>\n",
       "      <td>35727.0</td>\n",
       "      <td>35915.0</td>\n",
       "      <td>35928.0</td>\n",
       "      <td>36036.0</td>\n",
       "      <td>36157.0</td>\n",
       "      <td>36263.0</td>\n",
       "      <td>36368.0</td>\n",
       "      <td>36471.0</td>\n",
       "      <td>1063.0</td>\n",
       "    </tr>\n",
       "    <tr>\n",
       "      <th>Albania</th>\n",
       "      <td>NaN</td>\n",
       "      <td>NaN</td>\n",
       "      <td>NaN</td>\n",
       "      <td>NaN</td>\n",
       "      <td>NaN</td>\n",
       "      <td>NaN</td>\n",
       "      <td>NaN</td>\n",
       "      <td>NaN</td>\n",
       "      <td>NaN</td>\n",
       "      <td>NaN</td>\n",
       "      <td>...</td>\n",
       "      <td>4171.0</td>\n",
       "      <td>4290.0</td>\n",
       "      <td>4358.0</td>\n",
       "      <td>4466.0</td>\n",
       "      <td>4570.0</td>\n",
       "      <td>4637.0</td>\n",
       "      <td>4763.0</td>\n",
       "      <td>4880.0</td>\n",
       "      <td>4997.0</td>\n",
       "      <td>126.0</td>\n",
       "    </tr>\n",
       "    <tr>\n",
       "      <th>Algeria</th>\n",
       "      <td>0.0</td>\n",
       "      <td>0.0</td>\n",
       "      <td>0.0</td>\n",
       "      <td>0.0</td>\n",
       "      <td>0.0</td>\n",
       "      <td>0.0</td>\n",
       "      <td>0.0</td>\n",
       "      <td>0.0</td>\n",
       "      <td>0.0</td>\n",
       "      <td>0.0</td>\n",
       "      <td>...</td>\n",
       "      <td>23691.0</td>\n",
       "      <td>24278.0</td>\n",
       "      <td>24872.0</td>\n",
       "      <td>25484.0</td>\n",
       "      <td>26159.0</td>\n",
       "      <td>26764.0</td>\n",
       "      <td>27357.0</td>\n",
       "      <td>27973.0</td>\n",
       "      <td>27973.0</td>\n",
       "      <td>904.0</td>\n",
       "    </tr>\n",
       "    <tr>\n",
       "      <th>Andorra</th>\n",
       "      <td>NaN</td>\n",
       "      <td>NaN</td>\n",
       "      <td>NaN</td>\n",
       "      <td>NaN</td>\n",
       "      <td>NaN</td>\n",
       "      <td>NaN</td>\n",
       "      <td>NaN</td>\n",
       "      <td>NaN</td>\n",
       "      <td>NaN</td>\n",
       "      <td>NaN</td>\n",
       "      <td>...</td>\n",
       "      <td>884.0</td>\n",
       "      <td>884.0</td>\n",
       "      <td>889.0</td>\n",
       "      <td>889.0</td>\n",
       "      <td>889.0</td>\n",
       "      <td>897.0</td>\n",
       "      <td>897.0</td>\n",
       "      <td>907.0</td>\n",
       "      <td>907.0</td>\n",
       "      <td>79.0</td>\n",
       "    </tr>\n",
       "    <tr>\n",
       "      <th>Angola</th>\n",
       "      <td>NaN</td>\n",
       "      <td>NaN</td>\n",
       "      <td>NaN</td>\n",
       "      <td>NaN</td>\n",
       "      <td>NaN</td>\n",
       "      <td>NaN</td>\n",
       "      <td>NaN</td>\n",
       "      <td>NaN</td>\n",
       "      <td>NaN</td>\n",
       "      <td>NaN</td>\n",
       "      <td>...</td>\n",
       "      <td>749.0</td>\n",
       "      <td>749.0</td>\n",
       "      <td>779.0</td>\n",
       "      <td>812.0</td>\n",
       "      <td>851.0</td>\n",
       "      <td>880.0</td>\n",
       "      <td>880.0</td>\n",
       "      <td>930.0</td>\n",
       "      <td>932.0</td>\n",
       "      <td>62.0</td>\n",
       "    </tr>\n",
       "  </tbody>\n",
       "</table>\n",
       "<p>5 rows × 213 columns</p>\n",
       "</div>"
      ],
      "text/plain": [
       "             31/12/2019  1/1/2020  2/1/2020  3/1/2020  4/1/2020  5/1/2020  \\\n",
       "Countries                                                                   \n",
       "Afghanistan         0.0       0.0       0.0       0.0       0.0       0.0   \n",
       "Albania             NaN       NaN       NaN       NaN       NaN       NaN   \n",
       "Algeria             0.0       0.0       0.0       0.0       0.0       0.0   \n",
       "Andorra             NaN       NaN       NaN       NaN       NaN       NaN   \n",
       "Angola              NaN       NaN       NaN       NaN       NaN       NaN   \n",
       "\n",
       "             6/1/2020  7/1/2020  8/1/2020  9/1/2020  ...  21/07/2020  \\\n",
       "Countries                                            ...               \n",
       "Afghanistan       0.0       0.0       0.0       0.0  ...     35615.0   \n",
       "Albania           NaN       NaN       NaN       NaN  ...      4171.0   \n",
       "Algeria           0.0       0.0       0.0       0.0  ...     23691.0   \n",
       "Andorra           NaN       NaN       NaN       NaN  ...       884.0   \n",
       "Angola            NaN       NaN       NaN       NaN  ...       749.0   \n",
       "\n",
       "             22/07/2020  23/07/2020  24/07/2020  25/07/2020  26/07/2020  \\\n",
       "Countries                                                                 \n",
       "Afghanistan     35727.0     35915.0     35928.0     36036.0     36157.0   \n",
       "Albania          4290.0      4358.0      4466.0      4570.0      4637.0   \n",
       "Algeria         24278.0     24872.0     25484.0     26159.0     26764.0   \n",
       "Andorra           884.0       889.0       889.0       889.0       897.0   \n",
       "Angola            749.0       779.0       812.0       851.0       880.0   \n",
       "\n",
       "             27/07/2020  28/07/2020  29/07/2020  max_infection_rate  \n",
       "Countries                                                            \n",
       "Afghanistan     36263.0     36368.0     36471.0              1063.0  \n",
       "Albania          4763.0      4880.0      4997.0               126.0  \n",
       "Algeria         27357.0     27973.0     27973.0               904.0  \n",
       "Andorra           897.0       907.0       907.0                79.0  \n",
       "Angola            880.0       930.0       932.0                62.0  \n",
       "\n",
       "[5 rows x 213 columns]"
      ]
     },
     "execution_count": 17,
     "metadata": {},
     "output_type": "execute_result"
    }
   ],
   "source": [
    "cov_dataset.head()"
   ]
  },
  {
   "cell_type": "code",
   "execution_count": 18,
   "metadata": {},
   "outputs": [],
   "source": [
    "corona_data = pd.DataFrame(cov_dataset[\"max_infection_rate\"])"
   ]
  },
  {
   "cell_type": "code",
   "execution_count": 19,
   "metadata": {},
   "outputs": [
    {
     "data": {
      "text/html": [
       "<div>\n",
       "<style scoped>\n",
       "    .dataframe tbody tr th:only-of-type {\n",
       "        vertical-align: middle;\n",
       "    }\n",
       "\n",
       "    .dataframe tbody tr th {\n",
       "        vertical-align: top;\n",
       "    }\n",
       "\n",
       "    .dataframe thead th {\n",
       "        text-align: right;\n",
       "    }\n",
       "</style>\n",
       "<table border=\"1\" class=\"dataframe\">\n",
       "  <thead>\n",
       "    <tr style=\"text-align: right;\">\n",
       "      <th></th>\n",
       "      <th>max_infection_rate</th>\n",
       "    </tr>\n",
       "    <tr>\n",
       "      <th>Countries</th>\n",
       "      <th></th>\n",
       "    </tr>\n",
       "  </thead>\n",
       "  <tbody>\n",
       "    <tr>\n",
       "      <th>Afghanistan</th>\n",
       "      <td>1063.0</td>\n",
       "    </tr>\n",
       "    <tr>\n",
       "      <th>Albania</th>\n",
       "      <td>126.0</td>\n",
       "    </tr>\n",
       "    <tr>\n",
       "      <th>Algeria</th>\n",
       "      <td>904.0</td>\n",
       "    </tr>\n",
       "    <tr>\n",
       "      <th>Andorra</th>\n",
       "      <td>79.0</td>\n",
       "    </tr>\n",
       "    <tr>\n",
       "      <th>Angola</th>\n",
       "      <td>62.0</td>\n",
       "    </tr>\n",
       "  </tbody>\n",
       "</table>\n",
       "</div>"
      ],
      "text/plain": [
       "             max_infection_rate\n",
       "Countries                      \n",
       "Afghanistan              1063.0\n",
       "Albania                   126.0\n",
       "Algeria                   904.0\n",
       "Andorra                    79.0\n",
       "Angola                     62.0"
      ]
     },
     "execution_count": 19,
     "metadata": {},
     "output_type": "execute_result"
    }
   ],
   "source": [
    "corona_data.head()"
   ]
  },
  {
   "cell_type": "code",
   "execution_count": 20,
   "metadata": {},
   "outputs": [
    {
     "data": {
      "text/html": [
       "<div>\n",
       "<style scoped>\n",
       "    .dataframe tbody tr th:only-of-type {\n",
       "        vertical-align: middle;\n",
       "    }\n",
       "\n",
       "    .dataframe tbody tr th {\n",
       "        vertical-align: top;\n",
       "    }\n",
       "\n",
       "    .dataframe thead th {\n",
       "        text-align: right;\n",
       "    }\n",
       "</style>\n",
       "<table border=\"1\" class=\"dataframe\">\n",
       "  <thead>\n",
       "    <tr style=\"text-align: right;\">\n",
       "      <th></th>\n",
       "      <th>Countries</th>\n",
       "      <th>GDP</th>\n",
       "      <th>General government net lending/borrowing (% of GDP)</th>\n",
       "      <th>Inflation rate, average consumer prices</th>\n",
       "      <th>Unemployment rate</th>\n",
       "    </tr>\n",
       "  </thead>\n",
       "  <tbody>\n",
       "    <tr>\n",
       "      <th>0</th>\n",
       "      <td>Afghanistan</td>\n",
       "      <td>-3.0</td>\n",
       "      <td>-4.0</td>\n",
       "      <td>4.7</td>\n",
       "      <td>0.000</td>\n",
       "    </tr>\n",
       "    <tr>\n",
       "      <th>1</th>\n",
       "      <td>Albania</td>\n",
       "      <td>-5.0</td>\n",
       "      <td>-5.4</td>\n",
       "      <td>2.4</td>\n",
       "      <td>11.800</td>\n",
       "    </tr>\n",
       "    <tr>\n",
       "      <th>2</th>\n",
       "      <td>Algeria</td>\n",
       "      <td>-5.2</td>\n",
       "      <td>-15.0</td>\n",
       "      <td>3.5</td>\n",
       "      <td>15.091</td>\n",
       "    </tr>\n",
       "    <tr>\n",
       "      <th>3</th>\n",
       "      <td>Angola</td>\n",
       "      <td>-1.4</td>\n",
       "      <td>-6.0</td>\n",
       "      <td>20.7</td>\n",
       "      <td>0.000</td>\n",
       "    </tr>\n",
       "    <tr>\n",
       "      <th>4</th>\n",
       "      <td>Antigua and Barbuda</td>\n",
       "      <td>-10.0</td>\n",
       "      <td>-9.5</td>\n",
       "      <td>1.4</td>\n",
       "      <td>0.000</td>\n",
       "    </tr>\n",
       "  </tbody>\n",
       "</table>\n",
       "</div>"
      ],
      "text/plain": [
       "             Countries   GDP  \\\n",
       "0          Afghanistan  -3.0   \n",
       "1              Albania  -5.0   \n",
       "2              Algeria  -5.2   \n",
       "3               Angola  -1.4   \n",
       "4  Antigua and Barbuda -10.0   \n",
       "\n",
       "   General government net lending/borrowing (% of GDP)  \\\n",
       "0                                               -4.0     \n",
       "1                                               -5.4     \n",
       "2                                              -15.0     \n",
       "3                                               -6.0     \n",
       "4                                               -9.5     \n",
       "\n",
       "   Inflation rate, average consumer prices  Unemployment rate  \n",
       "0                                      4.7              0.000  \n",
       "1                                      2.4             11.800  \n",
       "2                                      3.5             15.091  \n",
       "3                                     20.7              0.000  \n",
       "4                                      1.4              0.000  "
      ]
     },
     "execution_count": 20,
     "metadata": {},
     "output_type": "execute_result"
    }
   ],
   "source": [
    "GDP_dataset = pd.read_csv(\"Dataset/GDP.csv\", encoding='latin1')\n",
    "GDP_dataset.head()"
   ]
  },
  {
   "cell_type": "code",
   "execution_count": 21,
   "metadata": {},
   "outputs": [
    {
     "data": {
      "text/html": [
       "<div>\n",
       "<style scoped>\n",
       "    .dataframe tbody tr th:only-of-type {\n",
       "        vertical-align: middle;\n",
       "    }\n",
       "\n",
       "    .dataframe tbody tr th {\n",
       "        vertical-align: top;\n",
       "    }\n",
       "\n",
       "    .dataframe thead th {\n",
       "        text-align: right;\n",
       "    }\n",
       "</style>\n",
       "<table border=\"1\" class=\"dataframe\">\n",
       "  <thead>\n",
       "    <tr style=\"text-align: right;\">\n",
       "      <th></th>\n",
       "      <th>Countries</th>\n",
       "      <th>GDP</th>\n",
       "      <th>General government net lending/borrowing (% of GDP)</th>\n",
       "      <th>Inflation rate, average consumer prices</th>\n",
       "      <th>Unemployment rate</th>\n",
       "    </tr>\n",
       "  </thead>\n",
       "  <tbody>\n",
       "    <tr>\n",
       "      <th>0</th>\n",
       "      <td>Afghanistan</td>\n",
       "      <td>-3.0</td>\n",
       "      <td>-4.0</td>\n",
       "      <td>4.7</td>\n",
       "      <td>0.000</td>\n",
       "    </tr>\n",
       "    <tr>\n",
       "      <th>1</th>\n",
       "      <td>Albania</td>\n",
       "      <td>-5.0</td>\n",
       "      <td>-5.4</td>\n",
       "      <td>2.4</td>\n",
       "      <td>11.800</td>\n",
       "    </tr>\n",
       "    <tr>\n",
       "      <th>2</th>\n",
       "      <td>Algeria</td>\n",
       "      <td>-5.2</td>\n",
       "      <td>-15.0</td>\n",
       "      <td>3.5</td>\n",
       "      <td>15.091</td>\n",
       "    </tr>\n",
       "    <tr>\n",
       "      <th>3</th>\n",
       "      <td>Angola</td>\n",
       "      <td>-1.4</td>\n",
       "      <td>-6.0</td>\n",
       "      <td>20.7</td>\n",
       "      <td>0.000</td>\n",
       "    </tr>\n",
       "    <tr>\n",
       "      <th>4</th>\n",
       "      <td>Antigua and Barbuda</td>\n",
       "      <td>-10.0</td>\n",
       "      <td>-9.5</td>\n",
       "      <td>1.4</td>\n",
       "      <td>0.000</td>\n",
       "    </tr>\n",
       "  </tbody>\n",
       "</table>\n",
       "</div>"
      ],
      "text/plain": [
       "             Countries   GDP  \\\n",
       "0          Afghanistan  -3.0   \n",
       "1              Albania  -5.0   \n",
       "2              Algeria  -5.2   \n",
       "3               Angola  -1.4   \n",
       "4  Antigua and Barbuda -10.0   \n",
       "\n",
       "   General government net lending/borrowing (% of GDP)  \\\n",
       "0                                               -4.0     \n",
       "1                                               -5.4     \n",
       "2                                              -15.0     \n",
       "3                                               -6.0     \n",
       "4                                               -9.5     \n",
       "\n",
       "   Inflation rate, average consumer prices  Unemployment rate  \n",
       "0                                      4.7              0.000  \n",
       "1                                      2.4             11.800  \n",
       "2                                      3.5             15.091  \n",
       "3                                     20.7              0.000  \n",
       "4                                      1.4              0.000  "
      ]
     },
     "execution_count": 21,
     "metadata": {},
     "output_type": "execute_result"
    }
   ],
   "source": [
    "GDP_dataset = pd.read_csv(\"Dataset/GDP.csv\", encoding='latin1')\n",
    "GDP_dataset.head()"
   ]
  },
  {
   "cell_type": "code",
   "execution_count": 22,
   "metadata": {},
   "outputs": [],
   "source": [
    "useless_cols = [\"General government net lending/borrowing (% of GDP)\",\"Inflation rate, average consumer prices\"]"
   ]
  },
  {
   "cell_type": "code",
   "execution_count": 23,
   "metadata": {},
   "outputs": [],
   "source": [
    "GDP_dataset.drop([\"General government net lending/borrowing (% of GDP)\",\"Inflation rate, average consumer prices\"],axis=1,inplace=True)"
   ]
  },
  {
   "cell_type": "code",
   "execution_count": 24,
   "metadata": {},
   "outputs": [
    {
     "data": {
      "text/html": [
       "<div>\n",
       "<style scoped>\n",
       "    .dataframe tbody tr th:only-of-type {\n",
       "        vertical-align: middle;\n",
       "    }\n",
       "\n",
       "    .dataframe tbody tr th {\n",
       "        vertical-align: top;\n",
       "    }\n",
       "\n",
       "    .dataframe thead th {\n",
       "        text-align: right;\n",
       "    }\n",
       "</style>\n",
       "<table border=\"1\" class=\"dataframe\">\n",
       "  <thead>\n",
       "    <tr style=\"text-align: right;\">\n",
       "      <th></th>\n",
       "      <th>Countries</th>\n",
       "      <th>GDP</th>\n",
       "      <th>Unemployment rate</th>\n",
       "    </tr>\n",
       "  </thead>\n",
       "  <tbody>\n",
       "    <tr>\n",
       "      <th>0</th>\n",
       "      <td>Afghanistan</td>\n",
       "      <td>-3.0</td>\n",
       "      <td>0.000</td>\n",
       "    </tr>\n",
       "    <tr>\n",
       "      <th>1</th>\n",
       "      <td>Albania</td>\n",
       "      <td>-5.0</td>\n",
       "      <td>11.800</td>\n",
       "    </tr>\n",
       "    <tr>\n",
       "      <th>2</th>\n",
       "      <td>Algeria</td>\n",
       "      <td>-5.2</td>\n",
       "      <td>15.091</td>\n",
       "    </tr>\n",
       "    <tr>\n",
       "      <th>3</th>\n",
       "      <td>Angola</td>\n",
       "      <td>-1.4</td>\n",
       "      <td>0.000</td>\n",
       "    </tr>\n",
       "    <tr>\n",
       "      <th>4</th>\n",
       "      <td>Antigua and Barbuda</td>\n",
       "      <td>-10.0</td>\n",
       "      <td>0.000</td>\n",
       "    </tr>\n",
       "  </tbody>\n",
       "</table>\n",
       "</div>"
      ],
      "text/plain": [
       "             Countries   GDP  Unemployment rate\n",
       "0          Afghanistan  -3.0              0.000\n",
       "1              Albania  -5.0             11.800\n",
       "2              Algeria  -5.2             15.091\n",
       "3               Angola  -1.4              0.000\n",
       "4  Antigua and Barbuda -10.0              0.000"
      ]
     },
     "execution_count": 24,
     "metadata": {},
     "output_type": "execute_result"
    }
   ],
   "source": [
    "GDP_dataset.head()"
   ]
  },
  {
   "cell_type": "code",
   "execution_count": 25,
   "metadata": {},
   "outputs": [],
   "source": [
    "GDP_dataset.set_index(\"Countries\", inplace = True)"
   ]
  },
  {
   "cell_type": "code",
   "execution_count": 26,
   "metadata": {},
   "outputs": [
    {
     "data": {
      "text/html": [
       "<div>\n",
       "<style scoped>\n",
       "    .dataframe tbody tr th:only-of-type {\n",
       "        vertical-align: middle;\n",
       "    }\n",
       "\n",
       "    .dataframe tbody tr th {\n",
       "        vertical-align: top;\n",
       "    }\n",
       "\n",
       "    .dataframe thead th {\n",
       "        text-align: right;\n",
       "    }\n",
       "</style>\n",
       "<table border=\"1\" class=\"dataframe\">\n",
       "  <thead>\n",
       "    <tr style=\"text-align: right;\">\n",
       "      <th></th>\n",
       "      <th>GDP</th>\n",
       "      <th>Unemployment rate</th>\n",
       "    </tr>\n",
       "    <tr>\n",
       "      <th>Countries</th>\n",
       "      <th></th>\n",
       "      <th></th>\n",
       "    </tr>\n",
       "  </thead>\n",
       "  <tbody>\n",
       "    <tr>\n",
       "      <th>Afghanistan</th>\n",
       "      <td>-3.0</td>\n",
       "      <td>0.000</td>\n",
       "    </tr>\n",
       "    <tr>\n",
       "      <th>Albania</th>\n",
       "      <td>-5.0</td>\n",
       "      <td>11.800</td>\n",
       "    </tr>\n",
       "    <tr>\n",
       "      <th>Algeria</th>\n",
       "      <td>-5.2</td>\n",
       "      <td>15.091</td>\n",
       "    </tr>\n",
       "    <tr>\n",
       "      <th>Angola</th>\n",
       "      <td>-1.4</td>\n",
       "      <td>0.000</td>\n",
       "    </tr>\n",
       "    <tr>\n",
       "      <th>Antigua and Barbuda</th>\n",
       "      <td>-10.0</td>\n",
       "      <td>0.000</td>\n",
       "    </tr>\n",
       "  </tbody>\n",
       "</table>\n",
       "</div>"
      ],
      "text/plain": [
       "                      GDP  Unemployment rate\n",
       "Countries                                   \n",
       "Afghanistan          -3.0              0.000\n",
       "Albania              -5.0             11.800\n",
       "Algeria              -5.2             15.091\n",
       "Angola               -1.4              0.000\n",
       "Antigua and Barbuda -10.0              0.000"
      ]
     },
     "execution_count": 26,
     "metadata": {},
     "output_type": "execute_result"
    }
   ],
   "source": [
    "GDP_dataset.head()"
   ]
  },
  {
   "cell_type": "code",
   "execution_count": 27,
   "metadata": {},
   "outputs": [
    {
     "data": {
      "text/html": [
       "<div>\n",
       "<style scoped>\n",
       "    .dataframe tbody tr th:only-of-type {\n",
       "        vertical-align: middle;\n",
       "    }\n",
       "\n",
       "    .dataframe tbody tr th {\n",
       "        vertical-align: top;\n",
       "    }\n",
       "\n",
       "    .dataframe thead th {\n",
       "        text-align: right;\n",
       "    }\n",
       "</style>\n",
       "<table border=\"1\" class=\"dataframe\">\n",
       "  <thead>\n",
       "    <tr style=\"text-align: right;\">\n",
       "      <th></th>\n",
       "      <th>max_infection_rate</th>\n",
       "    </tr>\n",
       "    <tr>\n",
       "      <th>Countries</th>\n",
       "      <th></th>\n",
       "    </tr>\n",
       "  </thead>\n",
       "  <tbody>\n",
       "    <tr>\n",
       "      <th>Afghanistan</th>\n",
       "      <td>1063.0</td>\n",
       "    </tr>\n",
       "    <tr>\n",
       "      <th>Albania</th>\n",
       "      <td>126.0</td>\n",
       "    </tr>\n",
       "    <tr>\n",
       "      <th>Algeria</th>\n",
       "      <td>904.0</td>\n",
       "    </tr>\n",
       "    <tr>\n",
       "      <th>Andorra</th>\n",
       "      <td>79.0</td>\n",
       "    </tr>\n",
       "    <tr>\n",
       "      <th>Angola</th>\n",
       "      <td>62.0</td>\n",
       "    </tr>\n",
       "  </tbody>\n",
       "</table>\n",
       "</div>"
      ],
      "text/plain": [
       "             max_infection_rate\n",
       "Countries                      \n",
       "Afghanistan              1063.0\n",
       "Albania                   126.0\n",
       "Algeria                   904.0\n",
       "Andorra                    79.0\n",
       "Angola                     62.0"
      ]
     },
     "execution_count": 27,
     "metadata": {},
     "output_type": "execute_result"
    }
   ],
   "source": [
    "corona_data.head()"
   ]
  },
  {
   "cell_type": "code",
   "execution_count": 28,
   "metadata": {},
   "outputs": [
    {
     "data": {
      "text/plain": [
       "(210, 1)"
      ]
     },
     "execution_count": 28,
     "metadata": {},
     "output_type": "execute_result"
    }
   ],
   "source": [
    "corona_data.shape"
   ]
  },
  {
   "cell_type": "code",
   "execution_count": 29,
   "metadata": {},
   "outputs": [
    {
     "data": {
      "text/html": [
       "<div>\n",
       "<style scoped>\n",
       "    .dataframe tbody tr th:only-of-type {\n",
       "        vertical-align: middle;\n",
       "    }\n",
       "\n",
       "    .dataframe tbody tr th {\n",
       "        vertical-align: top;\n",
       "    }\n",
       "\n",
       "    .dataframe thead th {\n",
       "        text-align: right;\n",
       "    }\n",
       "</style>\n",
       "<table border=\"1\" class=\"dataframe\">\n",
       "  <thead>\n",
       "    <tr style=\"text-align: right;\">\n",
       "      <th></th>\n",
       "      <th>GDP</th>\n",
       "      <th>Unemployment rate</th>\n",
       "    </tr>\n",
       "    <tr>\n",
       "      <th>Countries</th>\n",
       "      <th></th>\n",
       "      <th></th>\n",
       "    </tr>\n",
       "  </thead>\n",
       "  <tbody>\n",
       "    <tr>\n",
       "      <th>Afghanistan</th>\n",
       "      <td>-3.0</td>\n",
       "      <td>0.000</td>\n",
       "    </tr>\n",
       "    <tr>\n",
       "      <th>Albania</th>\n",
       "      <td>-5.0</td>\n",
       "      <td>11.800</td>\n",
       "    </tr>\n",
       "    <tr>\n",
       "      <th>Algeria</th>\n",
       "      <td>-5.2</td>\n",
       "      <td>15.091</td>\n",
       "    </tr>\n",
       "    <tr>\n",
       "      <th>Angola</th>\n",
       "      <td>-1.4</td>\n",
       "      <td>0.000</td>\n",
       "    </tr>\n",
       "    <tr>\n",
       "      <th>Antigua and Barbuda</th>\n",
       "      <td>-10.0</td>\n",
       "      <td>0.000</td>\n",
       "    </tr>\n",
       "  </tbody>\n",
       "</table>\n",
       "</div>"
      ],
      "text/plain": [
       "                      GDP  Unemployment rate\n",
       "Countries                                   \n",
       "Afghanistan          -3.0              0.000\n",
       "Albania              -5.0             11.800\n",
       "Algeria              -5.2             15.091\n",
       "Angola               -1.4              0.000\n",
       "Antigua and Barbuda -10.0              0.000"
      ]
     },
     "execution_count": 29,
     "metadata": {},
     "output_type": "execute_result"
    }
   ],
   "source": [
    "GDP_dataset.head()"
   ]
  },
  {
   "cell_type": "code",
   "execution_count": 30,
   "metadata": {},
   "outputs": [
    {
     "data": {
      "text/plain": [
       "(194, 2)"
      ]
     },
     "execution_count": 30,
     "metadata": {},
     "output_type": "execute_result"
    }
   ],
   "source": [
    "GDP_dataset.shape"
   ]
  },
  {
   "cell_type": "code",
   "execution_count": 31,
   "metadata": {},
   "outputs": [
    {
     "name": "stdout",
     "output_type": "stream",
     "text": [
      "                     max_infection_rate   GDP  Unemployment rate\n",
      "Countries                                                       \n",
      "Afghanistan                      1063.0  -3.0              0.000\n",
      "Albania                           126.0  -5.0             11.800\n",
      "Algeria                           904.0  -5.2             15.091\n",
      "Angola                             62.0  -1.4              0.000\n",
      "Antigua and Barbuda                39.0 -10.0              0.000\n",
      "...                                 ...   ...                ...\n",
      "Venezuela                        1200.0 -15.0              0.000\n",
      "Vietnam                            28.0   2.7              0.000\n",
      "Yemen                             116.0  -3.0              0.000\n",
      "Zambia                            527.0  -3.5              0.000\n",
      "Zimbabwe                          273.0  -7.4              0.000\n",
      "\n",
      "[162 rows x 3 columns]\n"
     ]
    }
   ],
   "source": [
    "data = corona_data.join(GDP_dataset, how=\"inner\")\n",
    "print(data)"
   ]
  },
  {
   "cell_type": "code",
   "execution_count": 32,
   "metadata": {},
   "outputs": [
    {
     "data": {
      "text/html": [
       "<div>\n",
       "<style scoped>\n",
       "    .dataframe tbody tr th:only-of-type {\n",
       "        vertical-align: middle;\n",
       "    }\n",
       "\n",
       "    .dataframe tbody tr th {\n",
       "        vertical-align: top;\n",
       "    }\n",
       "\n",
       "    .dataframe thead th {\n",
       "        text-align: right;\n",
       "    }\n",
       "</style>\n",
       "<table border=\"1\" class=\"dataframe\">\n",
       "  <thead>\n",
       "    <tr style=\"text-align: right;\">\n",
       "      <th></th>\n",
       "      <th>max_infection_rate</th>\n",
       "      <th>GDP</th>\n",
       "      <th>Unemployment rate</th>\n",
       "    </tr>\n",
       "  </thead>\n",
       "  <tbody>\n",
       "    <tr>\n",
       "      <th>max_infection_rate</th>\n",
       "      <td>1.000000</td>\n",
       "      <td>-0.013218</td>\n",
       "      <td>0.183261</td>\n",
       "    </tr>\n",
       "    <tr>\n",
       "      <th>GDP</th>\n",
       "      <td>-0.013218</td>\n",
       "      <td>1.000000</td>\n",
       "      <td>-0.179904</td>\n",
       "    </tr>\n",
       "    <tr>\n",
       "      <th>Unemployment rate</th>\n",
       "      <td>0.183261</td>\n",
       "      <td>-0.179904</td>\n",
       "      <td>1.000000</td>\n",
       "    </tr>\n",
       "  </tbody>\n",
       "</table>\n",
       "</div>"
      ],
      "text/plain": [
       "                    max_infection_rate       GDP  Unemployment rate\n",
       "max_infection_rate            1.000000 -0.013218           0.183261\n",
       "GDP                          -0.013218  1.000000          -0.179904\n",
       "Unemployment rate             0.183261 -0.179904           1.000000"
      ]
     },
     "execution_count": 32,
     "metadata": {},
     "output_type": "execute_result"
    }
   ],
   "source": [
    "data.corr()"
   ]
  },
  {
   "cell_type": "code",
   "execution_count": 33,
   "metadata": {},
   "outputs": [
    {
     "data": {
      "text/html": [
       "<div>\n",
       "<style scoped>\n",
       "    .dataframe tbody tr th:only-of-type {\n",
       "        vertical-align: middle;\n",
       "    }\n",
       "\n",
       "    .dataframe tbody tr th {\n",
       "        vertical-align: top;\n",
       "    }\n",
       "\n",
       "    .dataframe thead th {\n",
       "        text-align: right;\n",
       "    }\n",
       "</style>\n",
       "<table border=\"1\" class=\"dataframe\">\n",
       "  <thead>\n",
       "    <tr style=\"text-align: right;\">\n",
       "      <th></th>\n",
       "      <th>max_infection_rate</th>\n",
       "      <th>GDP</th>\n",
       "      <th>Unemployment rate</th>\n",
       "    </tr>\n",
       "    <tr>\n",
       "      <th>Countries</th>\n",
       "      <th></th>\n",
       "      <th></th>\n",
       "      <th></th>\n",
       "    </tr>\n",
       "  </thead>\n",
       "  <tbody>\n",
       "    <tr>\n",
       "      <th>Afghanistan</th>\n",
       "      <td>1063.0</td>\n",
       "      <td>-3.0</td>\n",
       "      <td>0.000</td>\n",
       "    </tr>\n",
       "    <tr>\n",
       "      <th>Albania</th>\n",
       "      <td>126.0</td>\n",
       "      <td>-5.0</td>\n",
       "      <td>11.800</td>\n",
       "    </tr>\n",
       "    <tr>\n",
       "      <th>Algeria</th>\n",
       "      <td>904.0</td>\n",
       "      <td>-5.2</td>\n",
       "      <td>15.091</td>\n",
       "    </tr>\n",
       "    <tr>\n",
       "      <th>Angola</th>\n",
       "      <td>62.0</td>\n",
       "      <td>-1.4</td>\n",
       "      <td>0.000</td>\n",
       "    </tr>\n",
       "    <tr>\n",
       "      <th>Antigua and Barbuda</th>\n",
       "      <td>39.0</td>\n",
       "      <td>-10.0</td>\n",
       "      <td>0.000</td>\n",
       "    </tr>\n",
       "  </tbody>\n",
       "</table>\n",
       "</div>"
      ],
      "text/plain": [
       "                     max_infection_rate   GDP  Unemployment rate\n",
       "Countries                                                       \n",
       "Afghanistan                      1063.0  -3.0              0.000\n",
       "Albania                           126.0  -5.0             11.800\n",
       "Algeria                           904.0  -5.2             15.091\n",
       "Angola                             62.0  -1.4              0.000\n",
       "Antigua and Barbuda                39.0 -10.0              0.000"
      ]
     },
     "execution_count": 33,
     "metadata": {},
     "output_type": "execute_result"
    }
   ],
   "source": [
    "data.head()"
   ]
  },
  {
   "cell_type": "code",
   "execution_count": 34,
   "metadata": {},
   "outputs": [
    {
     "data": {
      "text/plain": [
       "<AxesSubplot:xlabel='GDP', ylabel='max_infection_rate'>"
      ]
     },
     "execution_count": 34,
     "metadata": {},
     "output_type": "execute_result"
    },
    {
     "data": {
      "image/png": "[encoded data removed]",
      "text/plain": [
       "<Figure size 432x288 with 1 Axes>"
      ]
     },
     "metadata": {
      "needs_background": "light"
     },
     "output_type": "display_data"
    }
   ],
   "source": [
    "x = data[\"GDP\"] \n",
    "y = data[\"max_infection_rate\"]\n",
    "sns.scatterplot(x,y)"
   ]
  },
  {
   "cell_type": "code",
   "execution_count": 35,
   "metadata": {},
   "outputs": [
    {
     "data": {
      "text/plain": [
       "<AxesSubplot:xlabel='GDP', ylabel='max_infection_rate'>"
      ]
     },
     "execution_count": 35,
     "metadata": {},
     "output_type": "execute_result"
    },
    {
     "data": {
      "image/png": "[encoded data removed]",
      "text/plain": [
       "<Figure size 432x288 with 1 Axes>"
      ]
     },
     "metadata": {
      "needs_background": "light"
     },
     "output_type": "display_data"
    }
   ],
   "source": [
    "x = data[\"GDP\"] \n",
    "y = data[\"max_infection_rate\"]\n",
    "sns.scatterplot(x,np.log(y))"
   ]
  },
  {
   "cell_type": "code",
   "execution_count": 36,
   "metadata": {},
   "outputs": [
    {
     "data": {
      "text/plain": [
       "<AxesSubplot:xlabel='GDP', ylabel='max_infection_rate'>"
      ]
     },
     "execution_count": 36,
     "metadata": {},
     "output_type": "execute_result"
    },
    {
     "data": {
      "image/png": "[encoded data removed]",
      "text/plain": [
       "<Figure size 432x288 with 1 Axes>"
      ]
     },
     "metadata": {
      "needs_background": "light"
     },
     "output_type": "display_data"
    }
   ],
   "source": [
    "sns.regplot(x, np.log(y))"
   ]
  },
  {
   "cell_type": "code",
   "execution_count": 37,
   "metadata": {},
   "outputs": [
    {
     "data": {
      "text/plain": [
       "<AxesSubplot:xlabel='Unemployment rate', ylabel='max_infection_rate'>"
      ]
     },
     "execution_count": 37,
     "metadata": {},
     "output_type": "execute_result"
    },
    {
     "data": {
      "image/png": "[encoded data removed]",
      "text/plain": [
       "<Figure size 432x288 with 1 Axes>"
      ]
     },
     "metadata": {
      "needs_background": "light"
     },
     "output_type": "display_data"
    }
   ],
   "source": [
    "x = data[\"Unemployment rate\"] \n",
    "y = data[\"max_infection_rate\"]\n",
    "sns.scatterplot(x,y)"
   ]
  },
  {
   "cell_type": "code",
   "execution_count": 38,
   "metadata": {},
   "outputs": [
    {
     "data": {
      "text/plain": [
       "<AxesSubplot:xlabel='Unemployment rate', ylabel='max_infection_rate'>"
      ]
     },
     "execution_count": 38,
     "metadata": {},
     "output_type": "execute_result"
    },
    {
     "data": {
      "image/png": "[encoded data removed]",
      "text/plain": [
       "<Figure size 432x288 with 1 Axes>"
      ]
     },
     "metadata": {
      "needs_background": "light"
     },
     "output_type": "display_data"
    }
   ],
   "source": [
    "x = data[\"Unemployment rate\"] \n",
    "y = data[\"max_infection_rate\"]\n",
    "sns.scatterplot(x,np.log(y))"
   ]
  },
  {
   "cell_type": "code",
   "execution_count": 39,
   "metadata": {},
   "outputs": [
    {
     "data": {
      "text/plain": [
       "<AxesSubplot:xlabel='Unemployment rate', ylabel='max_infection_rate'>"
      ]
     },
     "execution_count": 39,
     "metadata": {},
     "output_type": "execute_result"
    },
    {
     "data": {
      "image/png": "[encoded data removed]",
      "text/plain": [
       "<Figure size 432x288 with 1 Axes>"
      ]
     },
     "metadata": {
      "needs_background": "light"
     },
     "output_type": "display_data"
    }
   ],
   "source": [
    "sns.regplot(x, np.log(y))"
   ]
  },
  {
   "cell_type": "code",
   "execution_count": 40,
   "metadata": {},
   "outputs": [
    {
     "data": {
      "text/plain": [
       "<AxesSubplot:xlabel='GDP', ylabel='Unemployment rate'>"
      ]
     },
     "execution_count": 40,
     "metadata": {},
     "output_type": "execute_result"
    },
    {
     "data": {
      "image/png": "[encoded data removed]",
      "text/plain": [
       "<Figure size 432x288 with 1 Axes>"
      ]
     },
     "metadata": {
      "needs_background": "light"
     },
     "output_type": "display_data"
    }
   ],
   "source": [
    "x = data[\"GDP\"] \n",
    "y = data[\"Unemployment rate\"]\n",
    "sns.scatterplot(x,y)"
   ]
  },
  {
   "cell_type": "code",
   "execution_count": 41,
   "metadata": {},
   "outputs": [
    {
     "name": "stderr",
     "output_type": "stream",
     "text": [
      "c:\\users\\sony\\appdata\\local\\programs\\python\\python38-32\\lib\\site-packages\\pandas\\core\\series.py:726: RuntimeWarning: divide by zero encountered in log\n",
      "  result = getattr(ufunc, method)(*inputs, **kwargs)\n"
     ]
    },
    {
     "data": {
      "text/plain": [
       "<AxesSubplot:xlabel='GDP', ylabel='Unemployment rate'>"
      ]
     },
     "execution_count": 41,
     "metadata": {},
     "output_type": "execute_result"
    },
    {
     "data": {
      "image/png": "[encoded data removed]",
      "text/plain": [
       "<Figure size 432x288 with 1 Axes>"
      ]
     },
     "metadata": {
      "needs_background": "light"
     },
     "output_type": "display_data"
    }
   ],
   "source": [
    "x = data[\"GDP\"] \n",
    "y = data[\"Unemployment rate\"]\n",
    "sns.scatterplot(x,np.log(y))"
   ]
  },
  {
   "cell_type": "code",
   "execution_count": 42,
   "metadata": {},
   "outputs": [
    {
     "name": "stderr",
     "output_type": "stream",
     "text": [
      "c:\\users\\sony\\appdata\\local\\programs\\python\\python38-32\\lib\\site-packages\\pandas\\core\\series.py:726: RuntimeWarning: divide by zero encountered in log\n",
      "  result = getattr(ufunc, method)(*inputs, **kwargs)\n"
     ]
    },
    {
     "data": {
      "text/plain": [
       "<AxesSubplot:xlabel='GDP', ylabel='Unemployment rate'>"
      ]
     },
     "execution_count": 42,
     "metadata": {},
     "output_type": "execute_result"
    },
    {
     "data": {
      "image/png": "[encoded data removed]",
      "text/plain": [
       "<Figure size 432x288 with 1 Axes>"
      ]
     },
     "metadata": {
      "needs_background": "light"
     },
     "output_type": "display_data"
    }
   ],
   "source": [
    "sns.regplot(x, np.log(y))"
   ]
  },
  {
   "cell_type": "code",
   "execution_count": 43,
   "metadata": {},
   "outputs": [
    {
     "name": "stdout",
     "output_type": "stream",
     "text": [
      "['General government net lending/borrowing (% of GDP)', 'Inflation rate, average consumer prices']\n"
     ]
    }
   ],
   "source": [
    "print(useless_cols)"
   ]
  },
  {
   "cell_type": "code",
   "execution_count": 44,
   "metadata": {},
   "outputs": [],
   "source": [
    "country = list(cov_dataset.index)\n",
    "sum_of_cases = []\n",
    "for x in country:\n",
    "    sum_of_cases.append(cov_dataset.loc[x].sum())\n",
    "cov_dataset[\"sum_of_cases\"] = sum_of_cases"
   ]
  },
  {
   "cell_type": "code",
   "execution_count": 45,
   "metadata": {},
   "outputs": [
    {
     "data": {
      "text/html": [
       "<div>\n",
       "<style scoped>\n",
       "    .dataframe tbody tr th:only-of-type {\n",
       "        vertical-align: middle;\n",
       "    }\n",
       "\n",
       "    .dataframe tbody tr th {\n",
       "        vertical-align: top;\n",
       "    }\n",
       "\n",
       "    .dataframe thead th {\n",
       "        text-align: right;\n",
       "    }\n",
       "</style>\n",
       "<table border=\"1\" class=\"dataframe\">\n",
       "  <thead>\n",
       "    <tr style=\"text-align: right;\">\n",
       "      <th></th>\n",
       "      <th>31/12/2019</th>\n",
       "      <th>1/1/2020</th>\n",
       "      <th>2/1/2020</th>\n",
       "      <th>3/1/2020</th>\n",
       "      <th>4/1/2020</th>\n",
       "      <th>5/1/2020</th>\n",
       "      <th>6/1/2020</th>\n",
       "      <th>7/1/2020</th>\n",
       "      <th>8/1/2020</th>\n",
       "      <th>9/1/2020</th>\n",
       "      <th>...</th>\n",
       "      <th>22/07/2020</th>\n",
       "      <th>23/07/2020</th>\n",
       "      <th>24/07/2020</th>\n",
       "      <th>25/07/2020</th>\n",
       "      <th>26/07/2020</th>\n",
       "      <th>27/07/2020</th>\n",
       "      <th>28/07/2020</th>\n",
       "      <th>29/07/2020</th>\n",
       "      <th>max_infection_rate</th>\n",
       "      <th>sum_of_cases</th>\n",
       "    </tr>\n",
       "    <tr>\n",
       "      <th>Countries</th>\n",
       "      <th></th>\n",
       "      <th></th>\n",
       "      <th></th>\n",
       "      <th></th>\n",
       "      <th></th>\n",
       "      <th></th>\n",
       "      <th></th>\n",
       "      <th></th>\n",
       "      <th></th>\n",
       "      <th></th>\n",
       "      <th></th>\n",
       "      <th></th>\n",
       "      <th></th>\n",
       "      <th></th>\n",
       "      <th></th>\n",
       "      <th></th>\n",
       "      <th></th>\n",
       "      <th></th>\n",
       "      <th></th>\n",
       "      <th></th>\n",
       "      <th></th>\n",
       "    </tr>\n",
       "  </thead>\n",
       "  <tbody>\n",
       "    <tr>\n",
       "      <th>Afghanistan</th>\n",
       "      <td>0.0</td>\n",
       "      <td>0.0</td>\n",
       "      <td>0.0</td>\n",
       "      <td>0.0</td>\n",
       "      <td>0.0</td>\n",
       "      <td>0.0</td>\n",
       "      <td>0.0</td>\n",
       "      <td>0.0</td>\n",
       "      <td>0.0</td>\n",
       "      <td>0.0</td>\n",
       "      <td>...</td>\n",
       "      <td>35727.0</td>\n",
       "      <td>35915.0</td>\n",
       "      <td>35928.0</td>\n",
       "      <td>36036.0</td>\n",
       "      <td>36157.0</td>\n",
       "      <td>36263.0</td>\n",
       "      <td>36368.0</td>\n",
       "      <td>36471.0</td>\n",
       "      <td>1063.0</td>\n",
       "      <td>1975002.0</td>\n",
       "    </tr>\n",
       "    <tr>\n",
       "      <th>Albania</th>\n",
       "      <td>NaN</td>\n",
       "      <td>NaN</td>\n",
       "      <td>NaN</td>\n",
       "      <td>NaN</td>\n",
       "      <td>NaN</td>\n",
       "      <td>NaN</td>\n",
       "      <td>NaN</td>\n",
       "      <td>NaN</td>\n",
       "      <td>NaN</td>\n",
       "      <td>NaN</td>\n",
       "      <td>...</td>\n",
       "      <td>4290.0</td>\n",
       "      <td>4358.0</td>\n",
       "      <td>4466.0</td>\n",
       "      <td>4570.0</td>\n",
       "      <td>4637.0</td>\n",
       "      <td>4763.0</td>\n",
       "      <td>4880.0</td>\n",
       "      <td>4997.0</td>\n",
       "      <td>126.0</td>\n",
       "      <td>201797.0</td>\n",
       "    </tr>\n",
       "    <tr>\n",
       "      <th>Algeria</th>\n",
       "      <td>0.0</td>\n",
       "      <td>0.0</td>\n",
       "      <td>0.0</td>\n",
       "      <td>0.0</td>\n",
       "      <td>0.0</td>\n",
       "      <td>0.0</td>\n",
       "      <td>0.0</td>\n",
       "      <td>0.0</td>\n",
       "      <td>0.0</td>\n",
       "      <td>0.0</td>\n",
       "      <td>...</td>\n",
       "      <td>24278.0</td>\n",
       "      <td>24872.0</td>\n",
       "      <td>25484.0</td>\n",
       "      <td>26159.0</td>\n",
       "      <td>26764.0</td>\n",
       "      <td>27357.0</td>\n",
       "      <td>27973.0</td>\n",
       "      <td>27973.0</td>\n",
       "      <td>904.0</td>\n",
       "      <td>1208043.0</td>\n",
       "    </tr>\n",
       "    <tr>\n",
       "      <th>Andorra</th>\n",
       "      <td>NaN</td>\n",
       "      <td>NaN</td>\n",
       "      <td>NaN</td>\n",
       "      <td>NaN</td>\n",
       "      <td>NaN</td>\n",
       "      <td>NaN</td>\n",
       "      <td>NaN</td>\n",
       "      <td>NaN</td>\n",
       "      <td>NaN</td>\n",
       "      <td>NaN</td>\n",
       "      <td>...</td>\n",
       "      <td>884.0</td>\n",
       "      <td>889.0</td>\n",
       "      <td>889.0</td>\n",
       "      <td>889.0</td>\n",
       "      <td>897.0</td>\n",
       "      <td>897.0</td>\n",
       "      <td>907.0</td>\n",
       "      <td>907.0</td>\n",
       "      <td>79.0</td>\n",
       "      <td>95431.0</td>\n",
       "    </tr>\n",
       "    <tr>\n",
       "      <th>Angola</th>\n",
       "      <td>NaN</td>\n",
       "      <td>NaN</td>\n",
       "      <td>NaN</td>\n",
       "      <td>NaN</td>\n",
       "      <td>NaN</td>\n",
       "      <td>NaN</td>\n",
       "      <td>NaN</td>\n",
       "      <td>NaN</td>\n",
       "      <td>NaN</td>\n",
       "      <td>NaN</td>\n",
       "      <td>...</td>\n",
       "      <td>749.0</td>\n",
       "      <td>779.0</td>\n",
       "      <td>812.0</td>\n",
       "      <td>851.0</td>\n",
       "      <td>880.0</td>\n",
       "      <td>880.0</td>\n",
       "      <td>930.0</td>\n",
       "      <td>932.0</td>\n",
       "      <td>62.0</td>\n",
       "      <td>23279.0</td>\n",
       "    </tr>\n",
       "  </tbody>\n",
       "</table>\n",
       "<p>5 rows × 214 columns</p>\n",
       "</div>"
      ],
      "text/plain": [
       "             31/12/2019  1/1/2020  2/1/2020  3/1/2020  4/1/2020  5/1/2020  \\\n",
       "Countries                                                                   \n",
       "Afghanistan         0.0       0.0       0.0       0.0       0.0       0.0   \n",
       "Albania             NaN       NaN       NaN       NaN       NaN       NaN   \n",
       "Algeria             0.0       0.0       0.0       0.0       0.0       0.0   \n",
       "Andorra             NaN       NaN       NaN       NaN       NaN       NaN   \n",
       "Angola              NaN       NaN       NaN       NaN       NaN       NaN   \n",
       "\n",
       "             6/1/2020  7/1/2020  8/1/2020  9/1/2020  ...  22/07/2020  \\\n",
       "Countries                                            ...               \n",
       "Afghanistan       0.0       0.0       0.0       0.0  ...     35727.0   \n",
       "Albania           NaN       NaN       NaN       NaN  ...      4290.0   \n",
       "Algeria           0.0       0.0       0.0       0.0  ...     24278.0   \n",
       "Andorra           NaN       NaN       NaN       NaN  ...       884.0   \n",
       "Angola            NaN       NaN       NaN       NaN  ...       749.0   \n",
       "\n",
       "             23/07/2020  24/07/2020  25/07/2020  26/07/2020  27/07/2020  \\\n",
       "Countries                                                                 \n",
       "Afghanistan     35915.0     35928.0     36036.0     36157.0     36263.0   \n",
       "Albania          4358.0      4466.0      4570.0      4637.0      4763.0   \n",
       "Algeria         24872.0     25484.0     26159.0     26764.0     27357.0   \n",
       "Andorra           889.0       889.0       889.0       897.0       897.0   \n",
       "Angola            779.0       812.0       851.0       880.0       880.0   \n",
       "\n",
       "             28/07/2020  29/07/2020  max_infection_rate  sum_of_cases  \n",
       "Countries                                                              \n",
       "Afghanistan     36368.0     36471.0              1063.0     1975002.0  \n",
       "Albania          4880.0      4997.0               126.0      201797.0  \n",
       "Algeria         27973.0     27973.0               904.0     1208043.0  \n",
       "Andorra           907.0       907.0                79.0       95431.0  \n",
       "Angola            930.0       932.0                62.0       23279.0  \n",
       "\n",
       "[5 rows x 214 columns]"
      ]
     },
     "execution_count": 45,
     "metadata": {},
     "output_type": "execute_result"
    }
   ],
   "source": [
    "cov_dataset.head()"
   ]
  },
  {
   "cell_type": "code",
   "execution_count": 47,
   "metadata": {},
   "outputs": [],
   "source": [
    "total_cases= pd.DataFrame(cov_dataset[\"sum_of_cases\"])"
   ]
  },
  {
   "cell_type": "code",
   "execution_count": 48,
   "metadata": {},
   "outputs": [
    {
     "data": {
      "text/html": [
       "<div>\n",
       "<style scoped>\n",
       "    .dataframe tbody tr th:only-of-type {\n",
       "        vertical-align: middle;\n",
       "    }\n",
       "\n",
       "    .dataframe tbody tr th {\n",
       "        vertical-align: top;\n",
       "    }\n",
       "\n",
       "    .dataframe thead th {\n",
       "        text-align: right;\n",
       "    }\n",
       "</style>\n",
       "<table border=\"1\" class=\"dataframe\">\n",
       "  <thead>\n",
       "    <tr style=\"text-align: right;\">\n",
       "      <th></th>\n",
       "      <th>sum_of_cases</th>\n",
       "    </tr>\n",
       "    <tr>\n",
       "      <th>Countries</th>\n",
       "      <th></th>\n",
       "    </tr>\n",
       "  </thead>\n",
       "  <tbody>\n",
       "    <tr>\n",
       "      <th>Afghanistan</th>\n",
       "      <td>1975002.0</td>\n",
       "    </tr>\n",
       "    <tr>\n",
       "      <th>Albania</th>\n",
       "      <td>201797.0</td>\n",
       "    </tr>\n",
       "    <tr>\n",
       "      <th>Algeria</th>\n",
       "      <td>1208043.0</td>\n",
       "    </tr>\n",
       "    <tr>\n",
       "      <th>Andorra</th>\n",
       "      <td>95431.0</td>\n",
       "    </tr>\n",
       "    <tr>\n",
       "      <th>Angola</th>\n",
       "      <td>23279.0</td>\n",
       "    </tr>\n",
       "  </tbody>\n",
       "</table>\n",
       "</div>"
      ],
      "text/plain": [
       "             sum_of_cases\n",
       "Countries                \n",
       "Afghanistan     1975002.0\n",
       "Albania          201797.0\n",
       "Algeria         1208043.0\n",
       "Andorra           95431.0\n",
       "Angola            23279.0"
      ]
     },
     "execution_count": 48,
     "metadata": {},
     "output_type": "execute_result"
    }
   ],
   "source": [
    "total_cases.head()"
   ]
  },
  {
   "cell_type": "code",
   "execution_count": 96,
   "metadata": {},
   "outputs": [
    {
     "data": {
      "image/png": "[encoded data removed]",
      "text/plain": [
       "<Figure size 432x288 with 1 Axes>"
      ]
     },
     "metadata": {},
     "output_type": "display_data"
    }
   ],
   "source": [
    "#plt.pie(sum_of_cases, labels= total_cases.index, autopct='%1.1ff%%', shadow=True, startangle=90)\n",
    "#plt.show()\n",
    "plt.pie(sum_of_cases, shadow=True,startangle=90)\n",
    "plt.legend(total_cases.index,title=\"name of countries\",loc=\"center left\",bbox_to_anchor=(1, 0, 0.5, 1))\n",
    "plt.show()"
   ]
  },
  {
   "cell_type": "code",
   "execution_count": null,
   "metadata": {},
   "outputs": [],
   "source": []
  }
 ],
 "metadata": {
  "kernelspec": {
   "display_name": "Python 3",
   "language": "python",
   "name": "python3"
  },
  "language_info": {
   "codemirror_mode": {
    "name": "ipython",
    "version": 3
   },
   "file_extension": ".py",
   "mimetype": "text/x-python",
   "name": "python",
   "nbconvert_exporter": "python",
   "pygments_lexer": "ipython3",
   "version": "3.7.0"
  }
 },
 "nbformat": 4,
 "nbformat_minor": 2
}
